{
 "cells": [
  {
   "cell_type": "code",
   "execution_count": null,
   "id": "be05da2f-ab07-4f03-b583-cbdebebbcf1a",
   "metadata": {},
   "outputs": [],
   "source": [
    "def forecast(rain: bool, temperature: int) -> str:\n",
    "    if not rain:\n",
    "        if temperature > 20:\n",
    "            answer = \"Wear jeans and a T-shirt\"\n",
    "        elif temperature > 10:\n",
    "            answer = \"I recommend a jumper as well\"\n",
    "        elif temperature > 5:\n",
    "            answer = \"Take a jacket with you\"\n",
    "        else:\n",
    "            answer = \"You should not go out\"\n",
    "    else:\n",
    "        if temperature > 20:\n",
    "            answer = \"Wear jeans and a T-shirt. Don't forget your umbrella\"\n",
    "        elif temperature > 10:\n",
    "            answer = \"I recommend a jumper as well. And I think gloves are in order\"\n",
    "        elif temperature > 5:\n",
    "            answer = \"Take a jacket with you. Make it a warm coat, actually\"\n",
    "        else:\n",
    "            answer = \"You should not go out\"\n",
    "    return answer\n",
    "\n",
    "temperature = int(input(\"What is the weather forecast tomorrow? \"))\n",
    "rain_input = input(\"Is there going to be rain? (yes/no) \").lower()\n",
    "rain = True if rain_input == \"yes\" else False\n",
    "\n",
    "include = \"Random line of code\"\n",
    "\n",
    "response = forecast(rain, temperature)\n",
    "print(response)"
   ]
  },
  {
   "cell_type": "code",
   "execution_count": null,
   "id": "053b99e9-46f9-4179-962e-c514634770a3",
   "metadata": {},
   "outputs": [],
   "source": [
    "## number of characters\n",
    "\n",
    "word = str(input(\"Insert a word: \"))\n",
    "word_length = len(word)\n",
    "if word_length > 1:\n",
    "    print(\"Your word has\", word_length, \"characters!\")\n",
    "print(\"Thank you\")\n"
   ]
  },
  {
   "cell_type": "code",
   "execution_count": null,
   "id": "bb4d1fbe-300a-48ac-9385-f71911351883",
   "metadata": {},
   "outputs": [],
   "source": [
    "number = float(input(\"give me a number\"))\n",
    "integer = int(number)\n",
    "decimal = round(number - integer, 2)\n",
    "print(\"Your number is:\", integer, \"with decimal of\", decimal,)"
   ]
  },
  {
   "cell_type": "code",
   "execution_count": null,
   "id": "f18a5fae-b2ad-4223-a473-38bbcd441571",
   "metadata": {},
   "outputs": [],
   "source": [
    "maturity = 18\n",
    "age = int(input(\"How old are you?\"))\n",
    "\n",
    "if age < maturity: \n",
    "    print(\"no age\")\n",
    "else:\n",
    "    print(\"great\")"
   ]
  },
  {
   "cell_type": "code",
   "execution_count": null,
   "id": "3bb86e62-3bdf-4357-bbd2-402eae880167",
   "metadata": {},
   "outputs": [],
   "source": [
    "num1 = int(input(\"Give me a first number\"))\n",
    "num2 = int(input(\"Give me a first number\"))\n",
    "\n",
    "if num1 > num2:\n",
    "    print(\"num1 wins\")\n",
    "elif num2 > num1:\n",
    "    print(\"num2 wins\")\n",
    "else:\n",
    "    print(\"The numbers are equal\")"
   ]
  },
  {
   "cell_type": "code",
   "execution_count": null,
   "id": "514892a3-3fe8-40f8-a507-5368e62e0467",
   "metadata": {},
   "outputs": [],
   "source": [
    "#age1 = int(input(\"Give me a first number\"))\n",
    "#name1 = str(input(\"first name\"))\n",
    "#age2 = int(input(\"Give me a second number\"))\n",
    "#name2 = str(input(\"second name\"))\n",
    "\n",
    "age1 = 39\n",
    "name1 = (\"Jukka\")\n",
    "age2 = 35\n",
    "name2 = (\"Mimmi\")\n",
    "\n",
    "\n",
    "person = {name1: age1, name2: age2}\n",
    "\n",
    "if age1 > age2:\n",
    "    print(name1, \"aged\", age1, \"wins\")\n",
    "elif age2 > age1: \n",
    "    print(name2, \"aged\", age2, \"wins\")\n",
    "else:\n",
    "    print(\"The numbers are equal\")\n",
    "\n",
    "print(person)"
   ]
  },
  {
   "cell_type": "code",
   "execution_count": 15,
   "id": "4a25119c-e533-499d-836f-c19cb5c425b8",
   "metadata": {},
   "outputs": [
    {
     "name": "stdin",
     "output_type": "stream",
     "text": [
      "Lahjan suuruus 34534\n"
     ]
    },
    {
     "name": "stdout",
     "output_type": "stream",
     "text": [
      "Lahjaveroa maksettavana 5153.4 euroa\n"
     ]
    }
   ],
   "source": [
    "### VEROHOMMIA \n",
    "\n",
    "lahja = int(input(\"Lahjan suuruus\"))\n",
    "vero = 0\n",
    "if lahja >= 1000000:\n",
    "    vero = 142100 + 0.17 * lahja\n",
    "elif lahja < 1000000 and lahja >=200000:\n",
    "    vero = 22100 + 0.15 * lahja\n",
    "elif lahja < 200000 and lahja >= 55000:\n",
    "    vero = 4700 + 0.12 * lahja\n",
    "elif lahja < 55000 and lahja >= 25000:\n",
    "    vero = 1700 + 0.10 * lahja\n",
    "elif lahja < 25000 and lahja >= 5000:\n",
    "    vero = 100 + 0.08 * lahja\n",
    "\n",
    "print(\"Lahjaveroa maksettavana\", vero, \"euroa\")"
   ]
  },
  {
   "cell_type": "code",
   "execution_count": 23,
   "id": "62cbc943-5e94-46f6-b2c1-16bac6a9347a",
   "metadata": {},
   "outputs": [
    {
     "data": {
      "text/plain": [
       "371.3333333333333"
      ]
     },
     "execution_count": 23,
     "metadata": {},
     "output_type": "execute_result"
    }
   ],
   "source": [
    "def mean (a,b,c):\n",
    "    solution = (a + b + c) / 3\n",
    "    return solution \n",
    "    print(solution)\n",
    "\n",
    "mean(434,356,324)"
   ]
  },
  {
   "cell_type": "code",
   "execution_count": 71,
   "id": "114a77f5-b9eb-49a4-9bad-3321e99bfbb8",
   "metadata": {},
   "outputs": [
    {
     "data": {
      "text/plain": [
       "'testtesttesttesttesttesttesttesttesttesttesttesttesttesttesttesttesttesttesttesttesttesttesttesttesttesttesttesttesttesttesttesttesttesttesttesttesttesttesttesttesttesttesttesttesttesttesttesttesttesttesttesttesttesttesttesttesttesttesttesttesttesttesttesttesttesttesttesttesttesttesttesttesttesttesttesttesttesttesttesttesttesttesttesttesttesttesttesttesttesttesttesttesttesttesttesttesttesttesttesttesttesttesttesttesttesttesttesttesttesttesttesttesttesttesttesttesttesttesttesttesttesttesttesttesttesttesttesttesttesttesttesttesttesttesttesttesttesttesttesttesttesttesttesttesttesttesttesttesttesttesttesttesttesttesttesttesttesttesttesttesttesttesttesttesttesttesttesttesttesttesttesttesttesttesttesttesttesttesttesttesttesttesttesttesttesttesttesttesttesttesttesttesttesttesttesttesttesttesttesttesttesttesttesttesttesttesttesttesttesttesttesttesttesttesttesttesttesttesttesttesttesttesttesttesttesttesttesttesttesttesttesttesttesttesttesttesttesttesttesttesttesttest'"
      ]
     },
     "execution_count": 71,
     "metadata": {},
     "output_type": "execute_result"
    }
   ],
   "source": [
    "def print_many_times(text, times):\n",
    "    if isinstance(text, str) and isinstance(times, int) == True:\n",
    "        solution = (text * times)\n",
    "        return(solution)\n",
    "        print(solution)\n",
    "    else:\n",
    "        print(\"Invalid inputs\")\n",
    "\n",
    "text = \"test\"\n",
    "times = 243\n",
    "print_many_times(text, times)"
   ]
  },
  {
   "cell_type": "code",
   "execution_count": 77,
   "id": "6436be8b-16b5-4908-be65-bbead5c0d117",
   "metadata": {},
   "outputs": [
    {
     "data": {
      "text/plain": [
       "10"
      ]
     },
     "execution_count": 77,
     "metadata": {},
     "output_type": "execute_result"
    }
   ],
   "source": [
    "for i in len(str):\n",
    "    \n"
   ]
  }
 ],
 "metadata": {
  "kernelspec": {
   "display_name": "Python 3 (ipykernel)",
   "language": "python",
   "name": "python3"
  },
  "language_info": {
   "codemirror_mode": {
    "name": "ipython",
    "version": 3
   },
   "file_extension": ".py",
   "mimetype": "text/x-python",
   "name": "python",
   "nbconvert_exporter": "python",
   "pygments_lexer": "ipython3",
   "version": "3.11.7"
  }
 },
 "nbformat": 4,
 "nbformat_minor": 5
}
